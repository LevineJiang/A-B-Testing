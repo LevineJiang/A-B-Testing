{
 "cells": [
  {
   "cell_type": "code",
   "execution_count": 22,
   "id": "8f45c99d-b77c-4cdd-8793-7ff80d8b616c",
   "metadata": {},
   "outputs": [],
   "source": [
    "import numpy as np\n",
    "import pandas as pd\n",
    "import scipy.stats as stats\n",
    "import matplotlib.pyplot as plt\n",
    "import seaborn as sns\n",
    "import random"
   ]
  },
  {
   "cell_type": "code",
   "execution_count": 5,
   "id": "54f1c48f-1237-4b3e-8deb-4ba19cd34b48",
   "metadata": {},
   "outputs": [],
   "source": [
    "# Set random seed for reproducibility\n",
    "np.random.seed(13)\n",
    "\n",
    "# Generate synthetic data\n",
    "n = 1500  # Number of samples per group\n",
    "\n",
    "# Group A: 11% conversion rate\n",
    "group_a = np.random.choice(['converted', 'not converted'], size=n, p=[0.11, 0.89])\n",
    "\n",
    "# Group B: 17% conversion rate (we expect this to perform better)\n",
    "group_b = np.random.choice(['converted', 'not converted'], size=n, p=[0.17, 0.83])\n",
    "\n",
    "# Create a DataFrame\n",
    "df = pd.DataFrame({\n",
    "    'group': ['A'] * n + ['B'] * n,\n",
    "    'converted': [1 if x == 'converted' else 0 for x in group_a] + \n",
    "                 [1 if x == 'converted' else 0 for x in group_b]\n",
    "})"
   ]
  },
  {
   "cell_type": "code",
   "execution_count": 6,
   "id": "f790c3fb-7678-4679-9b21-67ce46aa50b8",
   "metadata": {},
   "outputs": [
    {
     "data": {
      "text/html": [
       "<div>\n",
       "<style scoped>\n",
       "    .dataframe tbody tr th:only-of-type {\n",
       "        vertical-align: middle;\n",
       "    }\n",
       "\n",
       "    .dataframe tbody tr th {\n",
       "        vertical-align: top;\n",
       "    }\n",
       "\n",
       "    .dataframe thead th {\n",
       "        text-align: right;\n",
       "    }\n",
       "</style>\n",
       "<table border=\"1\" class=\"dataframe\">\n",
       "  <thead>\n",
       "    <tr style=\"text-align: right;\">\n",
       "      <th></th>\n",
       "      <th>group</th>\n",
       "      <th>converted</th>\n",
       "    </tr>\n",
       "  </thead>\n",
       "  <tbody>\n",
       "    <tr>\n",
       "      <th>0</th>\n",
       "      <td>A</td>\n",
       "      <td>0</td>\n",
       "    </tr>\n",
       "    <tr>\n",
       "      <th>1</th>\n",
       "      <td>A</td>\n",
       "      <td>0</td>\n",
       "    </tr>\n",
       "    <tr>\n",
       "      <th>2</th>\n",
       "      <td>A</td>\n",
       "      <td>0</td>\n",
       "    </tr>\n",
       "    <tr>\n",
       "      <th>3</th>\n",
       "      <td>A</td>\n",
       "      <td>0</td>\n",
       "    </tr>\n",
       "    <tr>\n",
       "      <th>4</th>\n",
       "      <td>A</td>\n",
       "      <td>0</td>\n",
       "    </tr>\n",
       "  </tbody>\n",
       "</table>\n",
       "</div>"
      ],
      "text/plain": [
       "  group  converted\n",
       "0     A          0\n",
       "1     A          0\n",
       "2     A          0\n",
       "3     A          0\n",
       "4     A          0"
      ]
     },
     "execution_count": 6,
     "metadata": {},
     "output_type": "execute_result"
    }
   ],
   "source": [
    "df.head()"
   ]
  },
  {
   "cell_type": "code",
   "execution_count": 7,
   "id": "b9257a5b-1515-4b6e-8818-8a95277b47cc",
   "metadata": {},
   "outputs": [
    {
     "name": "stdout",
     "output_type": "stream",
     "text": [
      "      converted                                             \n",
      "          count      mean       std  min  25%  50%  75%  max\n",
      "group                                                       \n",
      "A        1500.0  0.114667  0.318726  0.0  0.0  0.0  0.0  1.0\n",
      "B        1500.0  0.159333  0.366109  0.0  0.0  0.0  0.0  1.0\n"
     ]
    }
   ],
   "source": [
    "# Check basic statistics\n",
    "print(df.groupby('group').describe())"
   ]
  },
  {
   "cell_type": "markdown",
   "id": "b74826cf-b9fd-4bf5-a2a4-7d8fc223736d",
   "metadata": {},
   "source": [
    "## Hypotheses\n",
    "\n",
    "**Null Hypothesis (H₀):**  \n",
    "`p_A - p_B = 0`  \n",
    "No difference in conversion rates between groups\n",
    "\n",
    "**Alternative Hypothesis (H₁):**  \n",
    "`p_A - p_B ≠ 0`  \n",
    "Conversion rates are significantly different\n",
    "\n",
    "*α = 0.05, Two-tailed test*"
   ]
  },
  {
   "cell_type": "code",
   "execution_count": 8,
   "id": "5a26269a-5daf-43d7-b423-1d4f118585a2",
   "metadata": {},
   "outputs": [
    {
     "name": "stdout",
     "output_type": "stream",
     "text": [
      "Z-statistic: -3.5575\n",
      "P-value: 0.0004\n",
      "Reject the null hypothesis: There is a significant difference between the groups.\n"
     ]
    }
   ],
   "source": [
    "## Using stats library repeat the steps \n",
    "# Extract the number of successes and sample sizes\n",
    "success_a = df[df['group'] == 'A']['converted'].sum()\n",
    "size_a = len(df[df['group'] == 'A'])\n",
    "\n",
    "success_b = df[df['group'] == 'B']['converted'].sum()\n",
    "size_b = len(df[df['group'] == 'B'])\n",
    "\n",
    "# Calculate the z-score and p-value\n",
    "from statsmodels.stats.proportion import proportions_ztest\n",
    "\n",
    "count = np.array([success_a, success_b])\n",
    "nobs = np.array([size_a, size_b])\n",
    "\n",
    "z_stat, p_value = proportions_ztest(count, nobs, alternative='two-sided')\n",
    "\n",
    "print(f\"Z-statistic: {z_stat:.4f}\")\n",
    "print(f\"P-value: {p_value:.4f}\")\n",
    "\n",
    "# Determine statistical significance\n",
    "alpha = 0.05\n",
    "if p_value < alpha:\n",
    "    print(\"Reject the null hypothesis: There is a significant difference between the groups.\")\n",
    "else:\n",
    "    print(\"Fail to reject the null hypothesis: No significant difference between the groups.\")"
   ]
  },
  {
   "cell_type": "markdown",
   "id": "1ca33808-7297-4b14-80f5-996685c10bdd",
   "metadata": {},
   "source": [
    "## Randomization Test: Another Way to Determine the Significance of A/B Testing\n",
    "\n",
    "**Steps:**\n",
    "\n",
    "1. **Combine** group A and B data, then random darw new groups A and B, then measure the different conversion rate for each.\n",
    "2. **Repeat** the step 1 for multiple times, eg 1000 times resampling, records the conversion rate difference for each time.\n",
    "3. **Plot** the hisgram of 1000 resample tests with the conversion rate different then compare it with the orgianal rate difference "
   ]
  },
  {
   "cell_type": "code",
   "execution_count": 14,
   "id": "6ca33d73-f093-435e-a181-e24eb07c01f3",
   "metadata": {},
   "outputs": [
    {
     "data": {
      "text/plain": [
       "converted\n",
       "0    1328\n",
       "1     172\n",
       "Name: count, dtype: int64"
      ]
     },
     "execution_count": 14,
     "metadata": {},
     "output_type": "execute_result"
    }
   ],
   "source": [
    "df[df['group'] == 'A'].converted.value_counts()"
   ]
  },
  {
   "cell_type": "code",
   "execution_count": 15,
   "id": "40233628-3f8e-4651-a555-2977972b236b",
   "metadata": {},
   "outputs": [
    {
     "data": {
      "text/plain": [
       "converted\n",
       "0    1261\n",
       "1     239\n",
       "Name: count, dtype: int64"
      ]
     },
     "execution_count": 15,
     "metadata": {},
     "output_type": "execute_result"
    }
   ],
   "source": [
    "df[df['group'] == 'B'].converted.value_counts()"
   ]
  },
  {
   "cell_type": "code",
   "execution_count": 16,
   "id": "9316daac-83aa-46e1-92d2-15343666203b",
   "metadata": {},
   "outputs": [
    {
     "name": "stdout",
     "output_type": "stream",
     "text": [
      "Observed difference: 4.4667%\n"
     ]
    }
   ],
   "source": [
    "obs_pct_diff = 100 * (239/1500 - 172/1500)\n",
    "print(f'Observed difference: {obs_pct_diff:.4f}%')"
   ]
  },
  {
   "cell_type": "code",
   "execution_count": 17,
   "id": "8949e40a-50b7-4b43-94c8-4e5bb2e891a6",
   "metadata": {},
   "outputs": [],
   "source": [
    "conversion = [0] * (1328+1261)\n",
    "conversion.extend([1] * (172+239))\n",
    "conversion = pd.Series(conversion)"
   ]
  },
  {
   "cell_type": "code",
   "execution_count": 39,
   "id": "36fea598-d503-4b88-afce-4523bff0a92e",
   "metadata": {},
   "outputs": [],
   "source": [
    "def perm_fun(x, nA, nB):\n",
    "    n = nA + nB\n",
    "    # Convert to list instead of set for pandas indexing\n",
    "    idx_B = random.sample(range(n), nB)\n",
    "    # Create idx_A as a list of elements not in idx_B\n",
    "    idx_A = [i for i in range(n) if i not in idx_B]\n",
    "    return x.loc[idx_B].mean() - x.loc[idx_A].mean()\n",
    "\n",
    "\n",
    "perm_diffs = [100 * perm_fun(conversion, 1500, 1500) for i in range(1000)]"
   ]
  },
  {
   "cell_type": "code",
   "execution_count": 44,
   "id": "c5314db3-9bb2-4ea2-9307-c00fef58b0d6",
   "metadata": {},
   "outputs": [
    {
     "data": {
      "text/plain": [
       "Text(0, 0.5, 'Frequency')"
      ]
     },
     "execution_count": 44,
     "metadata": {},
     "output_type": "execute_result"
    },
    {
     "data": {
      "image/png": "[encoded data removed]",
      "text/plain": [
       "<Figure size 500x500 with 1 Axes>"
      ]
     },
     "metadata": {},
     "output_type": "display_data"
    }
   ],
   "source": [
    "fig, ax = plt.subplots(figsize=(5, 5))\n",
    "ax.hist(perm_diffs, bins=11, rwidth=0.9)\n",
    "ax.axvline(x=obs_pct_diff, color='black', lw=2)\n",
    "ax.text(obs_pct_diff, 200, 'Observed\\ndifference', bbox={'facecolor':'white'})\n",
    "ax.set_xlabel('Conversion rate (percent)')\n",
    "ax.set_ylabel('Frequency')"
   ]
  },
  {
   "cell_type": "markdown",
   "id": "d7aab008-1370-4419-a6e3-9384eec7305f",
   "metadata": {},
   "source": [
    "## 🎯 Conclusion\n",
    "\n",
    "- **Statistical distribution**: the rate difference range from -4.5 to 3.5 (appoximately) , and the oberved difference is out of this variance distribution.\n",
    "- **Interpretation**: the statistically significant difference was found between Group A and Group B\n",
    "- **Decision**: reject the null hypothesis (same conclusion as p-value test)\n",
    "- **“Comparing the observed value of the statistic to the resampled distribution allows you to judge whether an observed difference between samples might occur by chance.\"** -- Practical Statistics for Data Scientists, 2nd Edition (Peter Gedeck)\n"
   ]
  }
 ],
 "metadata": {
  "kernelspec": {
   "display_name": "Python [conda env:base] *",
   "language": "python",
   "name": "conda-base-py"
  },
  "language_info": {
   "codemirror_mode": {
    "name": "ipython",
    "version": 3
   },
   "file_extension": ".py",
   "mimetype": "text/x-python",
   "name": "python",
   "nbconvert_exporter": "python",
   "pygments_lexer": "ipython3",
   "version": "3.12.7"
  }
 },
 "nbformat": 4,
 "nbformat_minor": 5
}
